{
 "cells": [
  {
   "cell_type": "code",
   "execution_count": 1,
   "id": "ea7450bb",
   "metadata": {
    "_cell_guid": "b1076dfc-b9ad-4769-8c92-a6c4dae69d19",
    "_uuid": "8f2839f25d086af736a60e9eeb907d3b93b6e0e5",
    "execution": {
     "iopub.execute_input": "2025-03-24T12:54:50.846873Z",
     "iopub.status.busy": "2025-03-24T12:54:50.846404Z",
     "iopub.status.idle": "2025-03-24T12:54:52.033700Z",
     "shell.execute_reply": "2025-03-24T12:54:52.032128Z"
    },
    "papermill": {
     "duration": 1.200327,
     "end_time": "2025-03-24T12:54:52.035819",
     "exception": false,
     "start_time": "2025-03-24T12:54:50.835492",
     "status": "completed"
    },
    "tags": []
   },
   "outputs": [
    {
     "name": "stdout",
     "output_type": "stream",
     "text": [
      "/kaggle/input/covid-19/covid19_Confirmed_dataset.csv\n",
      "/kaggle/input/covid-19/covid19_deaths_dataset.csv\n",
      "/kaggle/input/covid-19/worldwide_happiness_report.csv\n"
     ]
    }
   ],
   "source": [
    "# This Python 3 environment comes with many helpful analytics libraries installed\n",
    "# It is defined by the kaggle/python Docker image: https://github.com/kaggle/docker-python\n",
    "# For example, here's several helpful packages to load\n",
    "\n",
    "import numpy as np # linear algebra\n",
    "import pandas as pd # data processing, CSV file I/O (e.g. pd.read_csv)\n",
    "\n",
    "# Input data files are available in the read-only \"../input/\" directory\n",
    "# For example, running this (by clicking run or pressing Shift+Enter) will list all files under the input directory\n",
    "\n",
    "import os\n",
    "for dirname, _, filenames in os.walk('/kaggle/input'):\n",
    "    for filename in filenames:\n",
    "        print(os.path.join(dirname, filename))\n",
    "\n",
    "# You can write up to 20GB to the current directory (/kaggle/working/) that gets preserved as output when you create a version using \"Save & Run All\" \n",
    "# You can also write temporary files to /kaggle/temp/, but they won't be saved outside of the current session"
   ]
  },
  {
   "cell_type": "markdown",
   "id": "4b7656c9",
   "metadata": {
    "papermill": {
     "duration": 0.009351,
     "end_time": "2025-03-24T12:54:52.054893",
     "exception": false,
     "start_time": "2025-03-24T12:54:52.045542",
     "status": "completed"
    },
    "tags": []
   },
   "source": [
    "# Welcome to Covid19 Data Analysis Notebook"
   ]
  },
  {
   "cell_type": "markdown",
   "id": "803ad68a",
   "metadata": {
    "papermill": {
     "duration": 0.009407,
     "end_time": "2025-03-24T12:54:52.074888",
     "exception": false,
     "start_time": "2025-03-24T12:54:52.065481",
     "status": "completed"
    },
    "tags": []
   },
   "source": [
    "# Let's Import the Modules"
   ]
  },
  {
   "cell_type": "code",
   "execution_count": 2,
   "id": "240641b8",
   "metadata": {
    "execution": {
     "iopub.execute_input": "2025-03-24T12:54:52.095629Z",
     "iopub.status.busy": "2025-03-24T12:54:52.094852Z",
     "iopub.status.idle": "2025-03-24T12:54:54.151730Z",
     "shell.execute_reply": "2025-03-24T12:54:54.150330Z"
    },
    "papermill": {
     "duration": 2.069004,
     "end_time": "2025-03-24T12:54:54.153707",
     "exception": false,
     "start_time": "2025-03-24T12:54:52.084703",
     "status": "completed"
    },
    "tags": []
   },
   "outputs": [
    {
     "name": "stdout",
     "output_type": "stream",
     "text": [
      "Modules are Imported.\n"
     ]
    }
   ],
   "source": [
    "import pandas as pd\n",
    "import numpy as np\n",
    "import seaborn as sns\n",
    "import matplotlib.pyplot as plt\n",
    "print('Modules are Imported.')"
   ]
  },
  {
   "cell_type": "markdown",
   "id": "446081f1",
   "metadata": {
    "papermill": {
     "duration": 0.008412,
     "end_time": "2025-03-24T12:54:54.171584",
     "exception": false,
     "start_time": "2025-03-24T12:54:54.163172",
     "status": "completed"
    },
    "tags": []
   },
   "source": [
    "# Task 2\n",
    "\n",
    "# Task 2.1: importing covid19 dataset\n"
   ]
  },
  {
   "cell_type": "code",
   "execution_count": 3,
   "id": "fc940eae",
   "metadata": {
    "execution": {
     "iopub.execute_input": "2025-03-24T12:54:54.193394Z",
     "iopub.status.busy": "2025-03-24T12:54:54.192786Z",
     "iopub.status.idle": "2025-03-24T12:54:54.263057Z",
     "shell.execute_reply": "2025-03-24T12:54:54.261604Z"
    },
    "papermill": {
     "duration": 0.083332,
     "end_time": "2025-03-24T12:54:54.265090",
     "exception": false,
     "start_time": "2025-03-24T12:54:54.181758",
     "status": "completed"
    },
    "tags": []
   },
   "outputs": [
    {
     "data": {
      "text/html": [
       "<div>\n",
       "<style scoped>\n",
       "    .dataframe tbody tr th:only-of-type {\n",
       "        vertical-align: middle;\n",
       "    }\n",
       "\n",
       "    .dataframe tbody tr th {\n",
       "        vertical-align: top;\n",
       "    }\n",
       "\n",
       "    .dataframe thead th {\n",
       "        text-align: right;\n",
       "    }\n",
       "</style>\n",
       "<table border=\"1\" class=\"dataframe\">\n",
       "  <thead>\n",
       "    <tr style=\"text-align: right;\">\n",
       "      <th></th>\n",
       "      <th>Province/State</th>\n",
       "      <th>Country/Region</th>\n",
       "      <th>Lat</th>\n",
       "      <th>Long</th>\n",
       "      <th>1/22/20</th>\n",
       "      <th>1/23/20</th>\n",
       "      <th>1/24/20</th>\n",
       "      <th>1/25/20</th>\n",
       "      <th>1/26/20</th>\n",
       "      <th>1/27/20</th>\n",
       "      <th>...</th>\n",
       "      <th>4/21/20</th>\n",
       "      <th>4/22/20</th>\n",
       "      <th>4/23/20</th>\n",
       "      <th>4/24/20</th>\n",
       "      <th>4/25/20</th>\n",
       "      <th>4/26/20</th>\n",
       "      <th>4/27/20</th>\n",
       "      <th>4/28/20</th>\n",
       "      <th>4/29/20</th>\n",
       "      <th>4/30/20</th>\n",
       "    </tr>\n",
       "  </thead>\n",
       "  <tbody>\n",
       "    <tr>\n",
       "      <th>0</th>\n",
       "      <td>NaN</td>\n",
       "      <td>Afghanistan</td>\n",
       "      <td>33.0000</td>\n",
       "      <td>65.0000</td>\n",
       "      <td>0</td>\n",
       "      <td>0</td>\n",
       "      <td>0</td>\n",
       "      <td>0</td>\n",
       "      <td>0</td>\n",
       "      <td>0</td>\n",
       "      <td>...</td>\n",
       "      <td>1092</td>\n",
       "      <td>1176</td>\n",
       "      <td>1279</td>\n",
       "      <td>1351</td>\n",
       "      <td>1463</td>\n",
       "      <td>1531</td>\n",
       "      <td>1703</td>\n",
       "      <td>1828</td>\n",
       "      <td>1939</td>\n",
       "      <td>2171</td>\n",
       "    </tr>\n",
       "    <tr>\n",
       "      <th>1</th>\n",
       "      <td>NaN</td>\n",
       "      <td>Albania</td>\n",
       "      <td>41.1533</td>\n",
       "      <td>20.1683</td>\n",
       "      <td>0</td>\n",
       "      <td>0</td>\n",
       "      <td>0</td>\n",
       "      <td>0</td>\n",
       "      <td>0</td>\n",
       "      <td>0</td>\n",
       "      <td>...</td>\n",
       "      <td>609</td>\n",
       "      <td>634</td>\n",
       "      <td>663</td>\n",
       "      <td>678</td>\n",
       "      <td>712</td>\n",
       "      <td>726</td>\n",
       "      <td>736</td>\n",
       "      <td>750</td>\n",
       "      <td>766</td>\n",
       "      <td>773</td>\n",
       "    </tr>\n",
       "    <tr>\n",
       "      <th>2</th>\n",
       "      <td>NaN</td>\n",
       "      <td>Algeria</td>\n",
       "      <td>28.0339</td>\n",
       "      <td>1.6596</td>\n",
       "      <td>0</td>\n",
       "      <td>0</td>\n",
       "      <td>0</td>\n",
       "      <td>0</td>\n",
       "      <td>0</td>\n",
       "      <td>0</td>\n",
       "      <td>...</td>\n",
       "      <td>2811</td>\n",
       "      <td>2910</td>\n",
       "      <td>3007</td>\n",
       "      <td>3127</td>\n",
       "      <td>3256</td>\n",
       "      <td>3382</td>\n",
       "      <td>3517</td>\n",
       "      <td>3649</td>\n",
       "      <td>3848</td>\n",
       "      <td>4006</td>\n",
       "    </tr>\n",
       "    <tr>\n",
       "      <th>3</th>\n",
       "      <td>NaN</td>\n",
       "      <td>Andorra</td>\n",
       "      <td>42.5063</td>\n",
       "      <td>1.5218</td>\n",
       "      <td>0</td>\n",
       "      <td>0</td>\n",
       "      <td>0</td>\n",
       "      <td>0</td>\n",
       "      <td>0</td>\n",
       "      <td>0</td>\n",
       "      <td>...</td>\n",
       "      <td>717</td>\n",
       "      <td>723</td>\n",
       "      <td>723</td>\n",
       "      <td>731</td>\n",
       "      <td>738</td>\n",
       "      <td>738</td>\n",
       "      <td>743</td>\n",
       "      <td>743</td>\n",
       "      <td>743</td>\n",
       "      <td>745</td>\n",
       "    </tr>\n",
       "    <tr>\n",
       "      <th>4</th>\n",
       "      <td>NaN</td>\n",
       "      <td>Angola</td>\n",
       "      <td>-11.2027</td>\n",
       "      <td>17.8739</td>\n",
       "      <td>0</td>\n",
       "      <td>0</td>\n",
       "      <td>0</td>\n",
       "      <td>0</td>\n",
       "      <td>0</td>\n",
       "      <td>0</td>\n",
       "      <td>...</td>\n",
       "      <td>24</td>\n",
       "      <td>25</td>\n",
       "      <td>25</td>\n",
       "      <td>25</td>\n",
       "      <td>25</td>\n",
       "      <td>26</td>\n",
       "      <td>27</td>\n",
       "      <td>27</td>\n",
       "      <td>27</td>\n",
       "      <td>27</td>\n",
       "    </tr>\n",
       "  </tbody>\n",
       "</table>\n",
       "<p>5 rows × 104 columns</p>\n",
       "</div>"
      ],
      "text/plain": [
       "  Province/State Country/Region      Lat     Long  1/22/20  1/23/20  1/24/20  \\\n",
       "0            NaN    Afghanistan  33.0000  65.0000        0        0        0   \n",
       "1            NaN        Albania  41.1533  20.1683        0        0        0   \n",
       "2            NaN        Algeria  28.0339   1.6596        0        0        0   \n",
       "3            NaN        Andorra  42.5063   1.5218        0        0        0   \n",
       "4            NaN         Angola -11.2027  17.8739        0        0        0   \n",
       "\n",
       "   1/25/20  1/26/20  1/27/20  ...  4/21/20  4/22/20  4/23/20  4/24/20  \\\n",
       "0        0        0        0  ...     1092     1176     1279     1351   \n",
       "1        0        0        0  ...      609      634      663      678   \n",
       "2        0        0        0  ...     2811     2910     3007     3127   \n",
       "3        0        0        0  ...      717      723      723      731   \n",
       "4        0        0        0  ...       24       25       25       25   \n",
       "\n",
       "   4/25/20  4/26/20  4/27/20  4/28/20  4/29/20  4/30/20  \n",
       "0     1463     1531     1703     1828     1939     2171  \n",
       "1      712      726      736      750      766      773  \n",
       "2     3256     3382     3517     3649     3848     4006  \n",
       "3      738      738      743      743      743      745  \n",
       "4       25       26       27       27       27       27  \n",
       "\n",
       "[5 rows x 104 columns]"
      ]
     },
     "execution_count": 3,
     "metadata": {},
     "output_type": "execute_result"
    }
   ],
   "source": [
    "dataset = pd.read_csv(\"/kaggle/input/covid-19/covid19_Confirmed_dataset.csv\")\n",
    "dataset.head()"
   ]
  },
  {
   "cell_type": "markdown",
   "id": "5e45d124",
   "metadata": {
    "papermill": {
     "duration": 0.01018,
     "end_time": "2025-03-24T12:54:54.284829",
     "exception": false,
     "start_time": "2025-03-24T12:54:54.274649",
     "status": "completed"
    },
    "tags": []
   },
   "source": [
    "# Let's check the shape of the dataframe"
   ]
  },
  {
   "cell_type": "code",
   "execution_count": 4,
   "id": "b76b1a42",
   "metadata": {
    "execution": {
     "iopub.execute_input": "2025-03-24T12:54:54.306858Z",
     "iopub.status.busy": "2025-03-24T12:54:54.306445Z",
     "iopub.status.idle": "2025-03-24T12:54:54.312993Z",
     "shell.execute_reply": "2025-03-24T12:54:54.311851Z"
    },
    "papermill": {
     "duration": 0.019538,
     "end_time": "2025-03-24T12:54:54.315188",
     "exception": false,
     "start_time": "2025-03-24T12:54:54.295650",
     "status": "completed"
    },
    "tags": []
   },
   "outputs": [
    {
     "data": {
      "text/plain": [
       "(266, 104)"
      ]
     },
     "execution_count": 4,
     "metadata": {},
     "output_type": "execute_result"
    }
   ],
   "source": [
    "dataset.shape"
   ]
  },
  {
   "cell_type": "markdown",
   "id": "b496ecd3",
   "metadata": {
    "papermill": {
     "duration": 0.008675,
     "end_time": "2025-03-24T12:54:54.333810",
     "exception": false,
     "start_time": "2025-03-24T12:54:54.325135",
     "status": "completed"
    },
    "tags": []
   },
   "source": [
    "# Task 2.2: Aggregating the rows by the country"
   ]
  },
  {
   "cell_type": "code",
   "execution_count": 5,
   "id": "b7e88649",
   "metadata": {
    "execution": {
     "iopub.execute_input": "2025-03-24T12:54:54.354117Z",
     "iopub.status.busy": "2025-03-24T12:54:54.353745Z",
     "iopub.status.idle": "2025-03-24T12:54:54.395037Z",
     "shell.execute_reply": "2025-03-24T12:54:54.393794Z"
    },
    "papermill": {
     "duration": 0.054619,
     "end_time": "2025-03-24T12:54:54.397391",
     "exception": false,
     "start_time": "2025-03-24T12:54:54.342772",
     "status": "completed"
    },
    "tags": []
   },
   "outputs": [
    {
     "data": {
      "text/html": [
       "<div>\n",
       "<style scoped>\n",
       "    .dataframe tbody tr th:only-of-type {\n",
       "        vertical-align: middle;\n",
       "    }\n",
       "\n",
       "    .dataframe tbody tr th {\n",
       "        vertical-align: top;\n",
       "    }\n",
       "\n",
       "    .dataframe thead th {\n",
       "        text-align: right;\n",
       "    }\n",
       "</style>\n",
       "<table border=\"1\" class=\"dataframe\">\n",
       "  <thead>\n",
       "    <tr style=\"text-align: right;\">\n",
       "      <th></th>\n",
       "      <th>Province/State</th>\n",
       "      <th>Lat</th>\n",
       "      <th>Long</th>\n",
       "      <th>1/22/20</th>\n",
       "      <th>1/23/20</th>\n",
       "      <th>1/24/20</th>\n",
       "      <th>1/25/20</th>\n",
       "      <th>1/26/20</th>\n",
       "      <th>1/27/20</th>\n",
       "      <th>1/28/20</th>\n",
       "      <th>...</th>\n",
       "      <th>4/21/20</th>\n",
       "      <th>4/22/20</th>\n",
       "      <th>4/23/20</th>\n",
       "      <th>4/24/20</th>\n",
       "      <th>4/25/20</th>\n",
       "      <th>4/26/20</th>\n",
       "      <th>4/27/20</th>\n",
       "      <th>4/28/20</th>\n",
       "      <th>4/29/20</th>\n",
       "      <th>4/30/20</th>\n",
       "    </tr>\n",
       "    <tr>\n",
       "      <th>Country/Region</th>\n",
       "      <th></th>\n",
       "      <th></th>\n",
       "      <th></th>\n",
       "      <th></th>\n",
       "      <th></th>\n",
       "      <th></th>\n",
       "      <th></th>\n",
       "      <th></th>\n",
       "      <th></th>\n",
       "      <th></th>\n",
       "      <th></th>\n",
       "      <th></th>\n",
       "      <th></th>\n",
       "      <th></th>\n",
       "      <th></th>\n",
       "      <th></th>\n",
       "      <th></th>\n",
       "      <th></th>\n",
       "      <th></th>\n",
       "      <th></th>\n",
       "      <th></th>\n",
       "    </tr>\n",
       "  </thead>\n",
       "  <tbody>\n",
       "    <tr>\n",
       "      <th>Afghanistan</th>\n",
       "      <td>0</td>\n",
       "      <td>33.0000</td>\n",
       "      <td>65.0000</td>\n",
       "      <td>0</td>\n",
       "      <td>0</td>\n",
       "      <td>0</td>\n",
       "      <td>0</td>\n",
       "      <td>0</td>\n",
       "      <td>0</td>\n",
       "      <td>0</td>\n",
       "      <td>...</td>\n",
       "      <td>1092</td>\n",
       "      <td>1176</td>\n",
       "      <td>1279</td>\n",
       "      <td>1351</td>\n",
       "      <td>1463</td>\n",
       "      <td>1531</td>\n",
       "      <td>1703</td>\n",
       "      <td>1828</td>\n",
       "      <td>1939</td>\n",
       "      <td>2171</td>\n",
       "    </tr>\n",
       "    <tr>\n",
       "      <th>Albania</th>\n",
       "      <td>0</td>\n",
       "      <td>41.1533</td>\n",
       "      <td>20.1683</td>\n",
       "      <td>0</td>\n",
       "      <td>0</td>\n",
       "      <td>0</td>\n",
       "      <td>0</td>\n",
       "      <td>0</td>\n",
       "      <td>0</td>\n",
       "      <td>0</td>\n",
       "      <td>...</td>\n",
       "      <td>609</td>\n",
       "      <td>634</td>\n",
       "      <td>663</td>\n",
       "      <td>678</td>\n",
       "      <td>712</td>\n",
       "      <td>726</td>\n",
       "      <td>736</td>\n",
       "      <td>750</td>\n",
       "      <td>766</td>\n",
       "      <td>773</td>\n",
       "    </tr>\n",
       "    <tr>\n",
       "      <th>Algeria</th>\n",
       "      <td>0</td>\n",
       "      <td>28.0339</td>\n",
       "      <td>1.6596</td>\n",
       "      <td>0</td>\n",
       "      <td>0</td>\n",
       "      <td>0</td>\n",
       "      <td>0</td>\n",
       "      <td>0</td>\n",
       "      <td>0</td>\n",
       "      <td>0</td>\n",
       "      <td>...</td>\n",
       "      <td>2811</td>\n",
       "      <td>2910</td>\n",
       "      <td>3007</td>\n",
       "      <td>3127</td>\n",
       "      <td>3256</td>\n",
       "      <td>3382</td>\n",
       "      <td>3517</td>\n",
       "      <td>3649</td>\n",
       "      <td>3848</td>\n",
       "      <td>4006</td>\n",
       "    </tr>\n",
       "    <tr>\n",
       "      <th>Andorra</th>\n",
       "      <td>0</td>\n",
       "      <td>42.5063</td>\n",
       "      <td>1.5218</td>\n",
       "      <td>0</td>\n",
       "      <td>0</td>\n",
       "      <td>0</td>\n",
       "      <td>0</td>\n",
       "      <td>0</td>\n",
       "      <td>0</td>\n",
       "      <td>0</td>\n",
       "      <td>...</td>\n",
       "      <td>717</td>\n",
       "      <td>723</td>\n",
       "      <td>723</td>\n",
       "      <td>731</td>\n",
       "      <td>738</td>\n",
       "      <td>738</td>\n",
       "      <td>743</td>\n",
       "      <td>743</td>\n",
       "      <td>743</td>\n",
       "      <td>745</td>\n",
       "    </tr>\n",
       "    <tr>\n",
       "      <th>Angola</th>\n",
       "      <td>0</td>\n",
       "      <td>-11.2027</td>\n",
       "      <td>17.8739</td>\n",
       "      <td>0</td>\n",
       "      <td>0</td>\n",
       "      <td>0</td>\n",
       "      <td>0</td>\n",
       "      <td>0</td>\n",
       "      <td>0</td>\n",
       "      <td>0</td>\n",
       "      <td>...</td>\n",
       "      <td>24</td>\n",
       "      <td>25</td>\n",
       "      <td>25</td>\n",
       "      <td>25</td>\n",
       "      <td>25</td>\n",
       "      <td>26</td>\n",
       "      <td>27</td>\n",
       "      <td>27</td>\n",
       "      <td>27</td>\n",
       "      <td>27</td>\n",
       "    </tr>\n",
       "  </tbody>\n",
       "</table>\n",
       "<p>5 rows × 103 columns</p>\n",
       "</div>"
      ],
      "text/plain": [
       "               Province/State      Lat     Long  1/22/20  1/23/20  1/24/20  \\\n",
       "Country/Region                                                               \n",
       "Afghanistan                 0  33.0000  65.0000        0        0        0   \n",
       "Albania                     0  41.1533  20.1683        0        0        0   \n",
       "Algeria                     0  28.0339   1.6596        0        0        0   \n",
       "Andorra                     0  42.5063   1.5218        0        0        0   \n",
       "Angola                      0 -11.2027  17.8739        0        0        0   \n",
       "\n",
       "                1/25/20  1/26/20  1/27/20  1/28/20  ...  4/21/20  4/22/20  \\\n",
       "Country/Region                                      ...                     \n",
       "Afghanistan           0        0        0        0  ...     1092     1176   \n",
       "Albania               0        0        0        0  ...      609      634   \n",
       "Algeria               0        0        0        0  ...     2811     2910   \n",
       "Andorra               0        0        0        0  ...      717      723   \n",
       "Angola                0        0        0        0  ...       24       25   \n",
       "\n",
       "                4/23/20  4/24/20  4/25/20  4/26/20  4/27/20  4/28/20  4/29/20  \\\n",
       "Country/Region                                                                  \n",
       "Afghanistan        1279     1351     1463     1531     1703     1828     1939   \n",
       "Albania             663      678      712      726      736      750      766   \n",
       "Algeria            3007     3127     3256     3382     3517     3649     3848   \n",
       "Andorra             723      731      738      738      743      743      743   \n",
       "Angola               25       25       25       26       27       27       27   \n",
       "\n",
       "                4/30/20  \n",
       "Country/Region           \n",
       "Afghanistan        2171  \n",
       "Albania             773  \n",
       "Algeria            4006  \n",
       "Andorra             745  \n",
       "Angola               27  \n",
       "\n",
       "[5 rows x 103 columns]"
      ]
     },
     "execution_count": 5,
     "metadata": {},
     "output_type": "execute_result"
    }
   ],
   "source": [
    "dataset_agg = dataset.groupby(\"Country/Region\").sum()\n",
    "dataset_agg.head()"
   ]
  },
  {
   "cell_type": "code",
   "execution_count": 6,
   "id": "ce0fc38a",
   "metadata": {
    "execution": {
     "iopub.execute_input": "2025-03-24T12:54:54.418177Z",
     "iopub.status.busy": "2025-03-24T12:54:54.417837Z",
     "iopub.status.idle": "2025-03-24T12:54:54.424626Z",
     "shell.execute_reply": "2025-03-24T12:54:54.423392Z"
    },
    "papermill": {
     "duration": 0.019261,
     "end_time": "2025-03-24T12:54:54.426471",
     "exception": false,
     "start_time": "2025-03-24T12:54:54.407210",
     "status": "completed"
    },
    "tags": []
   },
   "outputs": [
    {
     "data": {
      "text/plain": [
       "(187, 103)"
      ]
     },
     "execution_count": 6,
     "metadata": {},
     "output_type": "execute_result"
    }
   ],
   "source": [
    "dataset_agg.shape"
   ]
  },
  {
   "cell_type": "code",
   "execution_count": 7,
   "id": "452718a0",
   "metadata": {
    "execution": {
     "iopub.execute_input": "2025-03-24T12:54:54.447181Z",
     "iopub.status.busy": "2025-03-24T12:54:54.446830Z",
     "iopub.status.idle": "2025-03-24T12:54:54.860624Z",
     "shell.execute_reply": "2025-03-24T12:54:54.859408Z"
    },
    "papermill": {
     "duration": 0.426422,
     "end_time": "2025-03-24T12:54:54.862671",
     "exception": false,
     "start_time": "2025-03-24T12:54:54.436249",
     "status": "completed"
    },
    "tags": []
   },
   "outputs": [
    {
     "data": {
      "text/plain": [
       "<Axes: >"
      ]
     },
     "execution_count": 7,
     "metadata": {},
     "output_type": "execute_result"
    },
    {
     "data": {
      "image/png": "[encoded data removed]",
      "text/plain": [
       "<Figure size 640x480 with 1 Axes>"
      ]
     },
     "metadata": {},
     "output_type": "display_data"
    }
   ],
   "source": [
    "dataset_agg = dataset_agg.apply(pd.to_numeric, errors='coerce')\n",
    "dataset_agg.loc[\"China\"].plot()"
   ]
  },
  {
   "cell_type": "markdown",
   "id": "89aa0b6f",
   "metadata": {
    "papermill": {
     "duration": 0.020912,
     "end_time": "2025-03-24T12:54:54.896383",
     "exception": false,
     "start_time": "2025-03-24T12:54:54.875471",
     "status": "completed"
    },
    "tags": []
   },
   "source": [
    "# Task 2.3: Visualizing data related to a country for example China¶"
   ]
  },
  {
   "cell_type": "code",
   "execution_count": 8,
   "id": "6ece5194",
   "metadata": {
    "execution": {
     "iopub.execute_input": "2025-03-24T12:54:54.928083Z",
     "iopub.status.busy": "2025-03-24T12:54:54.927508Z",
     "iopub.status.idle": "2025-03-24T12:54:55.187901Z",
     "shell.execute_reply": "2025-03-24T12:54:55.186602Z"
    },
    "papermill": {
     "duration": 0.275383,
     "end_time": "2025-03-24T12:54:55.190029",
     "exception": false,
     "start_time": "2025-03-24T12:54:54.914646",
     "status": "completed"
    },
    "tags": []
   },
   "outputs": [
    {
     "data": {
      "text/plain": [
       "<matplotlib.legend.Legend at 0x7ceb172bc0d0>"
      ]
     },
     "execution_count": 8,
     "metadata": {},
     "output_type": "execute_result"
    },
    {
     "data": {
      "image/png": "[encoded data removed]",
      "text/plain": [
       "<Figure size 640x480 with 1 Axes>"
      ]
     },
     "metadata": {},
     "output_type": "display_data"
    }
   ],
   "source": [
    "dataset_agg.loc[\"China\"].plot()\n",
    "dataset_agg.loc[\"India\"].plot()\n",
    "dataset_agg.loc[\"Germany\"].plot()\n",
    "dataset_agg.loc[\"Spain\"].plot()\n",
    "plt.legend() "
   ]
  },
  {
   "cell_type": "markdown",
   "id": "9dfe37d0",
   "metadata": {
    "papermill": {
     "duration": 0.01082,
     "end_time": "2025-03-24T12:54:55.211950",
     "exception": false,
     "start_time": "2025-03-24T12:54:55.201130",
     "status": "completed"
    },
    "tags": []
   },
   "source": [
    "# Task3: Calculating a good measure"
   ]
  },
  {
   "cell_type": "code",
   "execution_count": 9,
   "id": "3b4174f8",
   "metadata": {
    "execution": {
     "iopub.execute_input": "2025-03-24T12:54:55.237332Z",
     "iopub.status.busy": "2025-03-24T12:54:55.236919Z",
     "iopub.status.idle": "2025-03-24T12:54:55.428846Z",
     "shell.execute_reply": "2025-03-24T12:54:55.427633Z"
    },
    "papermill": {
     "duration": 0.206133,
     "end_time": "2025-03-24T12:54:55.430711",
     "exception": false,
     "start_time": "2025-03-24T12:54:55.224578",
     "status": "completed"
    },
    "tags": []
   },
   "outputs": [
    {
     "data": {
      "text/plain": [
       "<Axes: >"
      ]
     },
     "execution_count": 9,
     "metadata": {},
     "output_type": "execute_result"
    },
    {
     "data": {
      "image/png": "[encoded data removed]",
      "text/plain": [
       "<Figure size 640x480 with 1 Axes>"
      ]
     },
     "metadata": {},
     "output_type": "display_data"
    }
   ],
   "source": [
    "dataset_agg.loc['China'][:4].plot()"
   ]
  },
  {
   "cell_type": "markdown",
   "id": "32cb1b1d",
   "metadata": {
    "papermill": {
     "duration": 0.011596,
     "end_time": "2025-03-24T12:54:55.454353",
     "exception": false,
     "start_time": "2025-03-24T12:54:55.442757",
     "status": "completed"
    },
    "tags": []
   },
   "source": [
    "# task 3.1: caculating the first derivative of the curve "
   ]
  },
  {
   "cell_type": "code",
   "execution_count": 10,
   "id": "2eba143b",
   "metadata": {
    "execution": {
     "iopub.execute_input": "2025-03-24T12:54:55.481735Z",
     "iopub.status.busy": "2025-03-24T12:54:55.481309Z",
     "iopub.status.idle": "2025-03-24T12:54:55.688377Z",
     "shell.execute_reply": "2025-03-24T12:54:55.686934Z"
    },
    "papermill": {
     "duration": 0.223912,
     "end_time": "2025-03-24T12:54:55.690370",
     "exception": false,
     "start_time": "2025-03-24T12:54:55.466458",
     "status": "completed"
    },
    "tags": []
   },
   "outputs": [
    {
     "data": {
      "text/plain": [
       "<Axes: >"
      ]
     },
     "execution_count": 10,
     "metadata": {},
     "output_type": "execute_result"
    },
    {
     "data": {
      "image/png": "[encoded data removed]",
      "text/plain": [
       "<Figure size 640x480 with 1 Axes>"
      ]
     },
     "metadata": {},
     "output_type": "display_data"
    }
   ],
   "source": [
    "dataset_agg.loc['China'].diff().plot()"
   ]
  },
  {
   "cell_type": "markdown",
   "id": "02b7b459",
   "metadata": {
    "papermill": {
     "duration": 0.012204,
     "end_time": "2025-03-24T12:54:55.715397",
     "exception": false,
     "start_time": "2025-03-24T12:54:55.703193",
     "status": "completed"
    },
    "tags": []
   },
   "source": [
    "# task 3.2: find maxmimum infection rate for China"
   ]
  },
  {
   "cell_type": "code",
   "execution_count": 11,
   "id": "f7066d1b",
   "metadata": {
    "execution": {
     "iopub.execute_input": "2025-03-24T12:54:55.742799Z",
     "iopub.status.busy": "2025-03-24T12:54:55.742418Z",
     "iopub.status.idle": "2025-03-24T12:54:55.749578Z",
     "shell.execute_reply": "2025-03-24T12:54:55.748509Z"
    },
    "papermill": {
     "duration": 0.022292,
     "end_time": "2025-03-24T12:54:55.751124",
     "exception": false,
     "start_time": "2025-03-24T12:54:55.728832",
     "status": "completed"
    },
    "tags": []
   },
   "outputs": [
    {
     "data": {
      "text/plain": [
       "15136.0"
      ]
     },
     "execution_count": 11,
     "metadata": {},
     "output_type": "execute_result"
    }
   ],
   "source": [
    "dataset_agg.loc[\"China\"].diff().max()"
   ]
  },
  {
   "cell_type": "code",
   "execution_count": 12,
   "id": "fe77e03f",
   "metadata": {
    "execution": {
     "iopub.execute_input": "2025-03-24T12:54:55.777982Z",
     "iopub.status.busy": "2025-03-24T12:54:55.777594Z",
     "iopub.status.idle": "2025-03-24T12:54:55.784639Z",
     "shell.execute_reply": "2025-03-24T12:54:55.783485Z"
    },
    "papermill": {
     "duration": 0.02255,
     "end_time": "2025-03-24T12:54:55.786481",
     "exception": false,
     "start_time": "2025-03-24T12:54:55.763931",
     "status": "completed"
    },
    "tags": []
   },
   "outputs": [
    {
     "data": {
      "text/plain": [
       "1893.0"
      ]
     },
     "execution_count": 12,
     "metadata": {},
     "output_type": "execute_result"
    }
   ],
   "source": [
    "dataset_agg.loc[\"India\"].diff().max()"
   ]
  },
  {
   "cell_type": "code",
   "execution_count": 13,
   "id": "d5d21c10",
   "metadata": {
    "execution": {
     "iopub.execute_input": "2025-03-24T12:54:55.813960Z",
     "iopub.status.busy": "2025-03-24T12:54:55.813533Z",
     "iopub.status.idle": "2025-03-24T12:54:55.821767Z",
     "shell.execute_reply": "2025-03-24T12:54:55.820297Z"
    },
    "papermill": {
     "duration": 0.024364,
     "end_time": "2025-03-24T12:54:55.823813",
     "exception": false,
     "start_time": "2025-03-24T12:54:55.799449",
     "status": "completed"
    },
    "tags": []
   },
   "outputs": [
    {
     "data": {
      "text/plain": [
       "9630.0"
      ]
     },
     "execution_count": 13,
     "metadata": {},
     "output_type": "execute_result"
    }
   ],
   "source": [
    "dataset_agg.loc[\"Spain\"].diff().max()"
   ]
  },
  {
   "cell_type": "markdown",
   "id": "bbfd243d",
   "metadata": {
    "papermill": {
     "duration": 0.012754,
     "end_time": "2025-03-24T12:54:55.849476",
     "exception": false,
     "start_time": "2025-03-24T12:54:55.836722",
     "status": "completed"
    },
    "tags": []
   },
   "source": [
    "# Task 3.3: find maximum infection rate for all of the countries."
   ]
  },
  {
   "cell_type": "code",
   "execution_count": 14,
   "id": "6325408e",
   "metadata": {
    "execution": {
     "iopub.execute_input": "2025-03-24T12:54:55.879626Z",
     "iopub.status.busy": "2025-03-24T12:54:55.879173Z",
     "iopub.status.idle": "2025-03-24T12:54:55.954813Z",
     "shell.execute_reply": "2025-03-24T12:54:55.953391Z"
    },
    "papermill": {
     "duration": 0.092087,
     "end_time": "2025-03-24T12:54:55.956899",
     "exception": false,
     "start_time": "2025-03-24T12:54:55.864812",
     "status": "completed"
    },
    "tags": []
   },
   "outputs": [
    {
     "data": {
      "text/html": [
       "<div>\n",
       "<style scoped>\n",
       "    .dataframe tbody tr th:only-of-type {\n",
       "        vertical-align: middle;\n",
       "    }\n",
       "\n",
       "    .dataframe tbody tr th {\n",
       "        vertical-align: top;\n",
       "    }\n",
       "\n",
       "    .dataframe thead th {\n",
       "        text-align: right;\n",
       "    }\n",
       "</style>\n",
       "<table border=\"1\" class=\"dataframe\">\n",
       "  <thead>\n",
       "    <tr style=\"text-align: right;\">\n",
       "      <th></th>\n",
       "      <th>Province/State</th>\n",
       "      <th>Lat</th>\n",
       "      <th>Long</th>\n",
       "      <th>1/22/20</th>\n",
       "      <th>1/23/20</th>\n",
       "      <th>1/24/20</th>\n",
       "      <th>1/25/20</th>\n",
       "      <th>1/26/20</th>\n",
       "      <th>1/27/20</th>\n",
       "      <th>1/28/20</th>\n",
       "      <th>...</th>\n",
       "      <th>4/22/20</th>\n",
       "      <th>4/23/20</th>\n",
       "      <th>4/24/20</th>\n",
       "      <th>4/25/20</th>\n",
       "      <th>4/26/20</th>\n",
       "      <th>4/27/20</th>\n",
       "      <th>4/28/20</th>\n",
       "      <th>4/29/20</th>\n",
       "      <th>4/30/20</th>\n",
       "      <th>max_infection_rate</th>\n",
       "    </tr>\n",
       "    <tr>\n",
       "      <th>Country/Region</th>\n",
       "      <th></th>\n",
       "      <th></th>\n",
       "      <th></th>\n",
       "      <th></th>\n",
       "      <th></th>\n",
       "      <th></th>\n",
       "      <th></th>\n",
       "      <th></th>\n",
       "      <th></th>\n",
       "      <th></th>\n",
       "      <th></th>\n",
       "      <th></th>\n",
       "      <th></th>\n",
       "      <th></th>\n",
       "      <th></th>\n",
       "      <th></th>\n",
       "      <th></th>\n",
       "      <th></th>\n",
       "      <th></th>\n",
       "      <th></th>\n",
       "      <th></th>\n",
       "    </tr>\n",
       "  </thead>\n",
       "  <tbody>\n",
       "    <tr>\n",
       "      <th>Afghanistan</th>\n",
       "      <td>0.0</td>\n",
       "      <td>33.0000</td>\n",
       "      <td>65.0000</td>\n",
       "      <td>0</td>\n",
       "      <td>0</td>\n",
       "      <td>0</td>\n",
       "      <td>0</td>\n",
       "      <td>0</td>\n",
       "      <td>0</td>\n",
       "      <td>0</td>\n",
       "      <td>...</td>\n",
       "      <td>1176</td>\n",
       "      <td>1279</td>\n",
       "      <td>1351</td>\n",
       "      <td>1463</td>\n",
       "      <td>1531</td>\n",
       "      <td>1703</td>\n",
       "      <td>1828</td>\n",
       "      <td>1939</td>\n",
       "      <td>2171</td>\n",
       "      <td>232.0000</td>\n",
       "    </tr>\n",
       "    <tr>\n",
       "      <th>Albania</th>\n",
       "      <td>0.0</td>\n",
       "      <td>41.1533</td>\n",
       "      <td>20.1683</td>\n",
       "      <td>0</td>\n",
       "      <td>0</td>\n",
       "      <td>0</td>\n",
       "      <td>0</td>\n",
       "      <td>0</td>\n",
       "      <td>0</td>\n",
       "      <td>0</td>\n",
       "      <td>...</td>\n",
       "      <td>634</td>\n",
       "      <td>663</td>\n",
       "      <td>678</td>\n",
       "      <td>712</td>\n",
       "      <td>726</td>\n",
       "      <td>736</td>\n",
       "      <td>750</td>\n",
       "      <td>766</td>\n",
       "      <td>773</td>\n",
       "      <td>41.1533</td>\n",
       "    </tr>\n",
       "    <tr>\n",
       "      <th>Algeria</th>\n",
       "      <td>0.0</td>\n",
       "      <td>28.0339</td>\n",
       "      <td>1.6596</td>\n",
       "      <td>0</td>\n",
       "      <td>0</td>\n",
       "      <td>0</td>\n",
       "      <td>0</td>\n",
       "      <td>0</td>\n",
       "      <td>0</td>\n",
       "      <td>0</td>\n",
       "      <td>...</td>\n",
       "      <td>2910</td>\n",
       "      <td>3007</td>\n",
       "      <td>3127</td>\n",
       "      <td>3256</td>\n",
       "      <td>3382</td>\n",
       "      <td>3517</td>\n",
       "      <td>3649</td>\n",
       "      <td>3848</td>\n",
       "      <td>4006</td>\n",
       "      <td>199.0000</td>\n",
       "    </tr>\n",
       "    <tr>\n",
       "      <th>Andorra</th>\n",
       "      <td>0.0</td>\n",
       "      <td>42.5063</td>\n",
       "      <td>1.5218</td>\n",
       "      <td>0</td>\n",
       "      <td>0</td>\n",
       "      <td>0</td>\n",
       "      <td>0</td>\n",
       "      <td>0</td>\n",
       "      <td>0</td>\n",
       "      <td>0</td>\n",
       "      <td>...</td>\n",
       "      <td>723</td>\n",
       "      <td>723</td>\n",
       "      <td>731</td>\n",
       "      <td>738</td>\n",
       "      <td>738</td>\n",
       "      <td>743</td>\n",
       "      <td>743</td>\n",
       "      <td>743</td>\n",
       "      <td>745</td>\n",
       "      <td>43.0000</td>\n",
       "    </tr>\n",
       "    <tr>\n",
       "      <th>Angola</th>\n",
       "      <td>0.0</td>\n",
       "      <td>-11.2027</td>\n",
       "      <td>17.8739</td>\n",
       "      <td>0</td>\n",
       "      <td>0</td>\n",
       "      <td>0</td>\n",
       "      <td>0</td>\n",
       "      <td>0</td>\n",
       "      <td>0</td>\n",
       "      <td>0</td>\n",
       "      <td>...</td>\n",
       "      <td>25</td>\n",
       "      <td>25</td>\n",
       "      <td>25</td>\n",
       "      <td>25</td>\n",
       "      <td>26</td>\n",
       "      <td>27</td>\n",
       "      <td>27</td>\n",
       "      <td>27</td>\n",
       "      <td>27</td>\n",
       "      <td>29.0766</td>\n",
       "    </tr>\n",
       "  </tbody>\n",
       "</table>\n",
       "<p>5 rows × 104 columns</p>\n",
       "</div>"
      ],
      "text/plain": [
       "                Province/State      Lat     Long  1/22/20  1/23/20  1/24/20  \\\n",
       "Country/Region                                                                \n",
       "Afghanistan                0.0  33.0000  65.0000        0        0        0   \n",
       "Albania                    0.0  41.1533  20.1683        0        0        0   \n",
       "Algeria                    0.0  28.0339   1.6596        0        0        0   \n",
       "Andorra                    0.0  42.5063   1.5218        0        0        0   \n",
       "Angola                     0.0 -11.2027  17.8739        0        0        0   \n",
       "\n",
       "                1/25/20  1/26/20  1/27/20  1/28/20  ...  4/22/20  4/23/20  \\\n",
       "Country/Region                                      ...                     \n",
       "Afghanistan           0        0        0        0  ...     1176     1279   \n",
       "Albania               0        0        0        0  ...      634      663   \n",
       "Algeria               0        0        0        0  ...     2910     3007   \n",
       "Andorra               0        0        0        0  ...      723      723   \n",
       "Angola                0        0        0        0  ...       25       25   \n",
       "\n",
       "                4/24/20  4/25/20  4/26/20  4/27/20  4/28/20  4/29/20  4/30/20  \\\n",
       "Country/Region                                                                  \n",
       "Afghanistan        1351     1463     1531     1703     1828     1939     2171   \n",
       "Albania             678      712      726      736      750      766      773   \n",
       "Algeria            3127     3256     3382     3517     3649     3848     4006   \n",
       "Andorra             731      738      738      743      743      743      745   \n",
       "Angola               25       25       26       27       27       27       27   \n",
       "\n",
       "                max_infection_rate  \n",
       "Country/Region                      \n",
       "Afghanistan               232.0000  \n",
       "Albania                    41.1533  \n",
       "Algeria                   199.0000  \n",
       "Andorra                    43.0000  \n",
       "Angola                     29.0766  \n",
       "\n",
       "[5 rows x 104 columns]"
      ]
     },
     "execution_count": 14,
     "metadata": {},
     "output_type": "execute_result"
    }
   ],
   "source": [
    "max_rate = []\n",
    "countries = list(dataset_agg.index)\n",
    "for c in countries:\n",
    "    max_rate.append(dataset_agg.loc[c].diff().max())\n",
    "max_rate\n",
    "dataset_agg[\"max_infection_rate\"]=max_rate\n",
    "dataset_agg.head()\n",
    "    "
   ]
  },
  {
   "cell_type": "markdown",
   "id": "2bd7c663",
   "metadata": {
    "papermill": {
     "duration": 0.012647,
     "end_time": "2025-03-24T12:54:55.982765",
     "exception": false,
     "start_time": "2025-03-24T12:54:55.970118",
     "status": "completed"
    },
    "tags": []
   },
   "source": [
    "# Task 3.4: create a new dataframe with only needed column"
   ]
  },
  {
   "cell_type": "code",
   "execution_count": 15,
   "id": "f49a6359",
   "metadata": {
    "execution": {
     "iopub.execute_input": "2025-03-24T12:54:56.010043Z",
     "iopub.status.busy": "2025-03-24T12:54:56.009644Z",
     "iopub.status.idle": "2025-03-24T12:54:56.019849Z",
     "shell.execute_reply": "2025-03-24T12:54:56.018676Z"
    },
    "papermill": {
     "duration": 0.025966,
     "end_time": "2025-03-24T12:54:56.021771",
     "exception": false,
     "start_time": "2025-03-24T12:54:55.995805",
     "status": "completed"
    },
    "tags": []
   },
   "outputs": [
    {
     "data": {
      "text/html": [
       "<div>\n",
       "<style scoped>\n",
       "    .dataframe tbody tr th:only-of-type {\n",
       "        vertical-align: middle;\n",
       "    }\n",
       "\n",
       "    .dataframe tbody tr th {\n",
       "        vertical-align: top;\n",
       "    }\n",
       "\n",
       "    .dataframe thead th {\n",
       "        text-align: right;\n",
       "    }\n",
       "</style>\n",
       "<table border=\"1\" class=\"dataframe\">\n",
       "  <thead>\n",
       "    <tr style=\"text-align: right;\">\n",
       "      <th></th>\n",
       "      <th>max_infection_rate</th>\n",
       "    </tr>\n",
       "    <tr>\n",
       "      <th>Country/Region</th>\n",
       "      <th></th>\n",
       "    </tr>\n",
       "  </thead>\n",
       "  <tbody>\n",
       "    <tr>\n",
       "      <th>Afghanistan</th>\n",
       "      <td>232.0000</td>\n",
       "    </tr>\n",
       "    <tr>\n",
       "      <th>Albania</th>\n",
       "      <td>41.1533</td>\n",
       "    </tr>\n",
       "    <tr>\n",
       "      <th>Algeria</th>\n",
       "      <td>199.0000</td>\n",
       "    </tr>\n",
       "    <tr>\n",
       "      <th>Andorra</th>\n",
       "      <td>43.0000</td>\n",
       "    </tr>\n",
       "    <tr>\n",
       "      <th>Angola</th>\n",
       "      <td>29.0766</td>\n",
       "    </tr>\n",
       "  </tbody>\n",
       "</table>\n",
       "</div>"
      ],
      "text/plain": [
       "                max_infection_rate\n",
       "Country/Region                    \n",
       "Afghanistan               232.0000\n",
       "Albania                    41.1533\n",
       "Algeria                   199.0000\n",
       "Andorra                    43.0000\n",
       "Angola                     29.0766"
      ]
     },
     "execution_count": 15,
     "metadata": {},
     "output_type": "execute_result"
    }
   ],
   "source": [
    "data=pd.DataFrame(dataset_agg[\"max_infection_rate\"])\n",
    "data.head(5)"
   ]
  },
  {
   "cell_type": "markdown",
   "id": "6abdc6d7",
   "metadata": {
    "papermill": {
     "duration": 0.013271,
     "end_time": "2025-03-24T12:54:56.048352",
     "exception": false,
     "start_time": "2025-03-24T12:54:56.035081",
     "status": "completed"
    },
    "tags": []
   },
   "source": [
    "# Task4:\n",
    "1.Importing the WorldHappinessReport.csv dataset\n",
    "2.selecting needed columns for our analysis\n",
    "3.join the datasets\n",
    "4.calculate the correlations as the result of our analysis"
   ]
  },
  {
   "cell_type": "markdown",
   "id": "7617166f",
   "metadata": {
    "papermill": {
     "duration": 0.013132,
     "end_time": "2025-03-24T12:54:56.075093",
     "exception": false,
     "start_time": "2025-03-24T12:54:56.061961",
     "status": "completed"
    },
    "tags": []
   },
   "source": [
    "# Task 4.1 : importing the dataset"
   ]
  },
  {
   "cell_type": "code",
   "execution_count": 16,
   "id": "ed255edf",
   "metadata": {
    "execution": {
     "iopub.execute_input": "2025-03-24T12:54:56.104075Z",
     "iopub.status.busy": "2025-03-24T12:54:56.103686Z",
     "iopub.status.idle": "2025-03-24T12:54:56.123418Z",
     "shell.execute_reply": "2025-03-24T12:54:56.122351Z"
    },
    "papermill": {
     "duration": 0.036703,
     "end_time": "2025-03-24T12:54:56.125174",
     "exception": false,
     "start_time": "2025-03-24T12:54:56.088471",
     "status": "completed"
    },
    "tags": []
   },
   "outputs": [
    {
     "data": {
      "text/html": [
       "<div>\n",
       "<style scoped>\n",
       "    .dataframe tbody tr th:only-of-type {\n",
       "        vertical-align: middle;\n",
       "    }\n",
       "\n",
       "    .dataframe tbody tr th {\n",
       "        vertical-align: top;\n",
       "    }\n",
       "\n",
       "    .dataframe thead th {\n",
       "        text-align: right;\n",
       "    }\n",
       "</style>\n",
       "<table border=\"1\" class=\"dataframe\">\n",
       "  <thead>\n",
       "    <tr style=\"text-align: right;\">\n",
       "      <th></th>\n",
       "      <th>Overall rank</th>\n",
       "      <th>Country or region</th>\n",
       "      <th>Score</th>\n",
       "      <th>GDP per capita</th>\n",
       "      <th>Social support</th>\n",
       "      <th>Healthy life expectancy</th>\n",
       "      <th>Freedom to make life choices</th>\n",
       "      <th>Generosity</th>\n",
       "      <th>Perceptions of corruption</th>\n",
       "    </tr>\n",
       "  </thead>\n",
       "  <tbody>\n",
       "    <tr>\n",
       "      <th>0</th>\n",
       "      <td>1</td>\n",
       "      <td>Finland</td>\n",
       "      <td>7.769</td>\n",
       "      <td>1.340</td>\n",
       "      <td>1.587</td>\n",
       "      <td>0.986</td>\n",
       "      <td>0.596</td>\n",
       "      <td>0.153</td>\n",
       "      <td>0.393</td>\n",
       "    </tr>\n",
       "    <tr>\n",
       "      <th>1</th>\n",
       "      <td>2</td>\n",
       "      <td>Denmark</td>\n",
       "      <td>7.600</td>\n",
       "      <td>1.383</td>\n",
       "      <td>1.573</td>\n",
       "      <td>0.996</td>\n",
       "      <td>0.592</td>\n",
       "      <td>0.252</td>\n",
       "      <td>0.410</td>\n",
       "    </tr>\n",
       "    <tr>\n",
       "      <th>2</th>\n",
       "      <td>3</td>\n",
       "      <td>Norway</td>\n",
       "      <td>7.554</td>\n",
       "      <td>1.488</td>\n",
       "      <td>1.582</td>\n",
       "      <td>1.028</td>\n",
       "      <td>0.603</td>\n",
       "      <td>0.271</td>\n",
       "      <td>0.341</td>\n",
       "    </tr>\n",
       "    <tr>\n",
       "      <th>3</th>\n",
       "      <td>4</td>\n",
       "      <td>Iceland</td>\n",
       "      <td>7.494</td>\n",
       "      <td>1.380</td>\n",
       "      <td>1.624</td>\n",
       "      <td>1.026</td>\n",
       "      <td>0.591</td>\n",
       "      <td>0.354</td>\n",
       "      <td>0.118</td>\n",
       "    </tr>\n",
       "    <tr>\n",
       "      <th>4</th>\n",
       "      <td>5</td>\n",
       "      <td>Netherlands</td>\n",
       "      <td>7.488</td>\n",
       "      <td>1.396</td>\n",
       "      <td>1.522</td>\n",
       "      <td>0.999</td>\n",
       "      <td>0.557</td>\n",
       "      <td>0.322</td>\n",
       "      <td>0.298</td>\n",
       "    </tr>\n",
       "  </tbody>\n",
       "</table>\n",
       "</div>"
      ],
      "text/plain": [
       "   Overall rank Country or region  Score  GDP per capita  Social support  \\\n",
       "0             1           Finland  7.769           1.340           1.587   \n",
       "1             2           Denmark  7.600           1.383           1.573   \n",
       "2             3            Norway  7.554           1.488           1.582   \n",
       "3             4           Iceland  7.494           1.380           1.624   \n",
       "4             5       Netherlands  7.488           1.396           1.522   \n",
       "\n",
       "   Healthy life expectancy  Freedom to make life choices  Generosity  \\\n",
       "0                    0.986                         0.596       0.153   \n",
       "1                    0.996                         0.592       0.252   \n",
       "2                    1.028                         0.603       0.271   \n",
       "3                    1.026                         0.591       0.354   \n",
       "4                    0.999                         0.557       0.322   \n",
       "\n",
       "   Perceptions of corruption  \n",
       "0                      0.393  \n",
       "1                      0.410  \n",
       "2                      0.341  \n",
       "3                      0.118  \n",
       "4                      0.298  "
      ]
     },
     "execution_count": 16,
     "metadata": {},
     "output_type": "execute_result"
    }
   ],
   "source": [
    "happiness = pd.read_csv(\"/kaggle/input/covid-19/worldwide_happiness_report.csv\")\n",
    "happiness.head()"
   ]
  },
  {
   "cell_type": "markdown",
   "id": "d52382eb",
   "metadata": {
    "papermill": {
     "duration": 0.014214,
     "end_time": "2025-03-24T12:54:56.153355",
     "exception": false,
     "start_time": "2025-03-24T12:54:56.139141",
     "status": "completed"
    },
    "tags": []
   },
   "source": [
    "# Task 4.2: let's drop the useless columns"
   ]
  },
  {
   "cell_type": "code",
   "execution_count": 17,
   "id": "0ecfa16d",
   "metadata": {
    "execution": {
     "iopub.execute_input": "2025-03-24T12:54:56.183448Z",
     "iopub.status.busy": "2025-03-24T12:54:56.183052Z",
     "iopub.status.idle": "2025-03-24T12:54:56.187743Z",
     "shell.execute_reply": "2025-03-24T12:54:56.186340Z"
    },
    "papermill": {
     "duration": 0.021988,
     "end_time": "2025-03-24T12:54:56.189723",
     "exception": false,
     "start_time": "2025-03-24T12:54:56.167735",
     "status": "completed"
    },
    "tags": []
   },
   "outputs": [],
   "source": [
    "useless = [\"Overall rank\",\"Score\",\"Generosity\",\"Perceptions of corruption\"]"
   ]
  },
  {
   "cell_type": "code",
   "execution_count": 18,
   "id": "78f7b703",
   "metadata": {
    "execution": {
     "iopub.execute_input": "2025-03-24T12:54:56.218606Z",
     "iopub.status.busy": "2025-03-24T12:54:56.218133Z",
     "iopub.status.idle": "2025-03-24T12:54:56.231847Z",
     "shell.execute_reply": "2025-03-24T12:54:56.230590Z"
    },
    "papermill": {
     "duration": 0.030223,
     "end_time": "2025-03-24T12:54:56.233960",
     "exception": false,
     "start_time": "2025-03-24T12:54:56.203737",
     "status": "completed"
    },
    "tags": []
   },
   "outputs": [
    {
     "data": {
      "text/html": [
       "<div>\n",
       "<style scoped>\n",
       "    .dataframe tbody tr th:only-of-type {\n",
       "        vertical-align: middle;\n",
       "    }\n",
       "\n",
       "    .dataframe tbody tr th {\n",
       "        vertical-align: top;\n",
       "    }\n",
       "\n",
       "    .dataframe thead th {\n",
       "        text-align: right;\n",
       "    }\n",
       "</style>\n",
       "<table border=\"1\" class=\"dataframe\">\n",
       "  <thead>\n",
       "    <tr style=\"text-align: right;\">\n",
       "      <th></th>\n",
       "      <th>Country or region</th>\n",
       "      <th>GDP per capita</th>\n",
       "      <th>Social support</th>\n",
       "      <th>Healthy life expectancy</th>\n",
       "      <th>Freedom to make life choices</th>\n",
       "    </tr>\n",
       "  </thead>\n",
       "  <tbody>\n",
       "    <tr>\n",
       "      <th>0</th>\n",
       "      <td>Finland</td>\n",
       "      <td>1.340</td>\n",
       "      <td>1.587</td>\n",
       "      <td>0.986</td>\n",
       "      <td>0.596</td>\n",
       "    </tr>\n",
       "    <tr>\n",
       "      <th>1</th>\n",
       "      <td>Denmark</td>\n",
       "      <td>1.383</td>\n",
       "      <td>1.573</td>\n",
       "      <td>0.996</td>\n",
       "      <td>0.592</td>\n",
       "    </tr>\n",
       "    <tr>\n",
       "      <th>2</th>\n",
       "      <td>Norway</td>\n",
       "      <td>1.488</td>\n",
       "      <td>1.582</td>\n",
       "      <td>1.028</td>\n",
       "      <td>0.603</td>\n",
       "    </tr>\n",
       "    <tr>\n",
       "      <th>3</th>\n",
       "      <td>Iceland</td>\n",
       "      <td>1.380</td>\n",
       "      <td>1.624</td>\n",
       "      <td>1.026</td>\n",
       "      <td>0.591</td>\n",
       "    </tr>\n",
       "    <tr>\n",
       "      <th>4</th>\n",
       "      <td>Netherlands</td>\n",
       "      <td>1.396</td>\n",
       "      <td>1.522</td>\n",
       "      <td>0.999</td>\n",
       "      <td>0.557</td>\n",
       "    </tr>\n",
       "  </tbody>\n",
       "</table>\n",
       "</div>"
      ],
      "text/plain": [
       "  Country or region  GDP per capita  Social support  Healthy life expectancy  \\\n",
       "0           Finland           1.340           1.587                    0.986   \n",
       "1           Denmark           1.383           1.573                    0.996   \n",
       "2            Norway           1.488           1.582                    1.028   \n",
       "3           Iceland           1.380           1.624                    1.026   \n",
       "4       Netherlands           1.396           1.522                    0.999   \n",
       "\n",
       "   Freedom to make life choices  \n",
       "0                         0.596  \n",
       "1                         0.592  \n",
       "2                         0.603  \n",
       "3                         0.591  \n",
       "4                         0.557  "
      ]
     },
     "execution_count": 18,
     "metadata": {},
     "output_type": "execute_result"
    }
   ],
   "source": [
    "happiness.drop([\"Overall rank\",\"Score\",\"Generosity\",\"Perceptions of corruption\"],axis=1,inplace=True)\n",
    "happiness.head(5)\n"
   ]
  },
  {
   "cell_type": "markdown",
   "id": "7b2493ad",
   "metadata": {
    "papermill": {
     "duration": 0.01334,
     "end_time": "2025-03-24T12:54:56.261086",
     "exception": false,
     "start_time": "2025-03-24T12:54:56.247746",
     "status": "completed"
    },
    "tags": []
   },
   "source": [
    "# Task 4.3: changing the indices of the dataframe"
   ]
  },
  {
   "cell_type": "code",
   "execution_count": 19,
   "id": "edffeb50",
   "metadata": {
    "execution": {
     "iopub.execute_input": "2025-03-24T12:54:56.292374Z",
     "iopub.status.busy": "2025-03-24T12:54:56.291933Z",
     "iopub.status.idle": "2025-03-24T12:54:56.297903Z",
     "shell.execute_reply": "2025-03-24T12:54:56.296533Z"
    },
    "papermill": {
     "duration": 0.024631,
     "end_time": "2025-03-24T12:54:56.300076",
     "exception": false,
     "start_time": "2025-03-24T12:54:56.275445",
     "status": "completed"
    },
    "tags": []
   },
   "outputs": [],
   "source": [
    "happiness.set_index(\"Country or region\", inplace=True)"
   ]
  },
  {
   "cell_type": "markdown",
   "id": "c9770484",
   "metadata": {
    "papermill": {
     "duration": 0.013951,
     "end_time": "2025-03-24T12:54:56.329423",
     "exception": false,
     "start_time": "2025-03-24T12:54:56.315472",
     "status": "completed"
    },
    "tags": []
   },
   "source": [
    "# Corona Dataset:"
   ]
  },
  {
   "cell_type": "code",
   "execution_count": 20,
   "id": "b52dc113",
   "metadata": {
    "execution": {
     "iopub.execute_input": "2025-03-24T12:54:56.358327Z",
     "iopub.status.busy": "2025-03-24T12:54:56.357937Z",
     "iopub.status.idle": "2025-03-24T12:54:56.364411Z",
     "shell.execute_reply": "2025-03-24T12:54:56.363160Z"
    },
    "papermill": {
     "duration": 0.02283,
     "end_time": "2025-03-24T12:54:56.366314",
     "exception": false,
     "start_time": "2025-03-24T12:54:56.343484",
     "status": "completed"
    },
    "tags": []
   },
   "outputs": [
    {
     "data": {
      "text/plain": [
       "(156, 4)"
      ]
     },
     "execution_count": 20,
     "metadata": {},
     "output_type": "execute_result"
    }
   ],
   "source": [
    "happiness.shape"
   ]
  },
  {
   "cell_type": "code",
   "execution_count": 21,
   "id": "44502427",
   "metadata": {
    "execution": {
     "iopub.execute_input": "2025-03-24T12:54:56.396723Z",
     "iopub.status.busy": "2025-03-24T12:54:56.396347Z",
     "iopub.status.idle": "2025-03-24T12:54:56.414902Z",
     "shell.execute_reply": "2025-03-24T12:54:56.413808Z"
    },
    "papermill": {
     "duration": 0.035919,
     "end_time": "2025-03-24T12:54:56.416751",
     "exception": false,
     "start_time": "2025-03-24T12:54:56.380832",
     "status": "completed"
    },
    "tags": []
   },
   "outputs": [
    {
     "data": {
      "text/html": [
       "<div>\n",
       "<style scoped>\n",
       "    .dataframe tbody tr th:only-of-type {\n",
       "        vertical-align: middle;\n",
       "    }\n",
       "\n",
       "    .dataframe tbody tr th {\n",
       "        vertical-align: top;\n",
       "    }\n",
       "\n",
       "    .dataframe thead th {\n",
       "        text-align: right;\n",
       "    }\n",
       "</style>\n",
       "<table border=\"1\" class=\"dataframe\">\n",
       "  <thead>\n",
       "    <tr style=\"text-align: right;\">\n",
       "      <th></th>\n",
       "      <th>max_infection_rate</th>\n",
       "      <th>GDP per capita</th>\n",
       "      <th>Social support</th>\n",
       "      <th>Healthy life expectancy</th>\n",
       "      <th>Freedom to make life choices</th>\n",
       "    </tr>\n",
       "  </thead>\n",
       "  <tbody>\n",
       "    <tr>\n",
       "      <th>Afghanistan</th>\n",
       "      <td>232.0000</td>\n",
       "      <td>0.350</td>\n",
       "      <td>0.517</td>\n",
       "      <td>0.361</td>\n",
       "      <td>0.000</td>\n",
       "    </tr>\n",
       "    <tr>\n",
       "      <th>Albania</th>\n",
       "      <td>41.1533</td>\n",
       "      <td>0.947</td>\n",
       "      <td>0.848</td>\n",
       "      <td>0.874</td>\n",
       "      <td>0.383</td>\n",
       "    </tr>\n",
       "    <tr>\n",
       "      <th>Algeria</th>\n",
       "      <td>199.0000</td>\n",
       "      <td>1.002</td>\n",
       "      <td>1.160</td>\n",
       "      <td>0.785</td>\n",
       "      <td>0.086</td>\n",
       "    </tr>\n",
       "    <tr>\n",
       "      <th>Argentina</th>\n",
       "      <td>291.0000</td>\n",
       "      <td>1.092</td>\n",
       "      <td>1.432</td>\n",
       "      <td>0.881</td>\n",
       "      <td>0.471</td>\n",
       "    </tr>\n",
       "    <tr>\n",
       "      <th>Armenia</th>\n",
       "      <td>134.0000</td>\n",
       "      <td>0.850</td>\n",
       "      <td>1.055</td>\n",
       "      <td>0.815</td>\n",
       "      <td>0.283</td>\n",
       "    </tr>\n",
       "  </tbody>\n",
       "</table>\n",
       "</div>"
      ],
      "text/plain": [
       "             max_infection_rate  GDP per capita  Social support  \\\n",
       "Afghanistan            232.0000           0.350           0.517   \n",
       "Albania                 41.1533           0.947           0.848   \n",
       "Algeria                199.0000           1.002           1.160   \n",
       "Argentina              291.0000           1.092           1.432   \n",
       "Armenia                134.0000           0.850           1.055   \n",
       "\n",
       "             Healthy life expectancy  Freedom to make life choices  \n",
       "Afghanistan                    0.361                         0.000  \n",
       "Albania                        0.874                         0.383  \n",
       "Algeria                        0.785                         0.086  \n",
       "Argentina                      0.881                         0.471  \n",
       "Armenia                        0.815                         0.283  "
      ]
     },
     "execution_count": 21,
     "metadata": {},
     "output_type": "execute_result"
    }
   ],
   "source": [
    "final=data.join(happiness, how=\"inner\")\n",
    "final.head()"
   ]
  },
  {
   "cell_type": "markdown",
   "id": "f8a11a59",
   "metadata": {
    "papermill": {
     "duration": 0.014253,
     "end_time": "2025-03-24T12:54:56.445456",
     "exception": false,
     "start_time": "2025-03-24T12:54:56.431203",
     "status": "completed"
    },
    "tags": []
   },
   "source": [
    "# Task 4.5: correlation matrix"
   ]
  },
  {
   "cell_type": "code",
   "execution_count": 22,
   "id": "bf07ae3a",
   "metadata": {
    "execution": {
     "iopub.execute_input": "2025-03-24T12:54:56.475169Z",
     "iopub.status.busy": "2025-03-24T12:54:56.474828Z",
     "iopub.status.idle": "2025-03-24T12:54:56.489186Z",
     "shell.execute_reply": "2025-03-24T12:54:56.487883Z"
    },
    "papermill": {
     "duration": 0.031283,
     "end_time": "2025-03-24T12:54:56.490967",
     "exception": false,
     "start_time": "2025-03-24T12:54:56.459684",
     "status": "completed"
    },
    "tags": []
   },
   "outputs": [
    {
     "data": {
      "text/html": [
       "<div>\n",
       "<style scoped>\n",
       "    .dataframe tbody tr th:only-of-type {\n",
       "        vertical-align: middle;\n",
       "    }\n",
       "\n",
       "    .dataframe tbody tr th {\n",
       "        vertical-align: top;\n",
       "    }\n",
       "\n",
       "    .dataframe thead th {\n",
       "        text-align: right;\n",
       "    }\n",
       "</style>\n",
       "<table border=\"1\" class=\"dataframe\">\n",
       "  <thead>\n",
       "    <tr style=\"text-align: right;\">\n",
       "      <th></th>\n",
       "      <th>max_infection_rate</th>\n",
       "      <th>GDP per capita</th>\n",
       "      <th>Social support</th>\n",
       "      <th>Healthy life expectancy</th>\n",
       "      <th>Freedom to make life choices</th>\n",
       "    </tr>\n",
       "  </thead>\n",
       "  <tbody>\n",
       "    <tr>\n",
       "      <th>max_infection_rate</th>\n",
       "      <td>1.000000</td>\n",
       "      <td>0.251168</td>\n",
       "      <td>0.194084</td>\n",
       "      <td>0.291400</td>\n",
       "      <td>0.080686</td>\n",
       "    </tr>\n",
       "    <tr>\n",
       "      <th>GDP per capita</th>\n",
       "      <td>0.251168</td>\n",
       "      <td>1.000000</td>\n",
       "      <td>0.759468</td>\n",
       "      <td>0.863062</td>\n",
       "      <td>0.394603</td>\n",
       "    </tr>\n",
       "    <tr>\n",
       "      <th>Social support</th>\n",
       "      <td>0.194084</td>\n",
       "      <td>0.759468</td>\n",
       "      <td>1.000000</td>\n",
       "      <td>0.765286</td>\n",
       "      <td>0.456246</td>\n",
       "    </tr>\n",
       "    <tr>\n",
       "      <th>Healthy life expectancy</th>\n",
       "      <td>0.291400</td>\n",
       "      <td>0.863062</td>\n",
       "      <td>0.765286</td>\n",
       "      <td>1.000000</td>\n",
       "      <td>0.427892</td>\n",
       "    </tr>\n",
       "    <tr>\n",
       "      <th>Freedom to make life choices</th>\n",
       "      <td>0.080686</td>\n",
       "      <td>0.394603</td>\n",
       "      <td>0.456246</td>\n",
       "      <td>0.427892</td>\n",
       "      <td>1.000000</td>\n",
       "    </tr>\n",
       "  </tbody>\n",
       "</table>\n",
       "</div>"
      ],
      "text/plain": [
       "                              max_infection_rate  GDP per capita  \\\n",
       "max_infection_rate                      1.000000        0.251168   \n",
       "GDP per capita                          0.251168        1.000000   \n",
       "Social support                          0.194084        0.759468   \n",
       "Healthy life expectancy                 0.291400        0.863062   \n",
       "Freedom to make life choices            0.080686        0.394603   \n",
       "\n",
       "                              Social support  Healthy life expectancy  \\\n",
       "max_infection_rate                  0.194084                 0.291400   \n",
       "GDP per capita                      0.759468                 0.863062   \n",
       "Social support                      1.000000                 0.765286   \n",
       "Healthy life expectancy             0.765286                 1.000000   \n",
       "Freedom to make life choices        0.456246                 0.427892   \n",
       "\n",
       "                              Freedom to make life choices  \n",
       "max_infection_rate                                0.080686  \n",
       "GDP per capita                                    0.394603  \n",
       "Social support                                    0.456246  \n",
       "Healthy life expectancy                           0.427892  \n",
       "Freedom to make life choices                      1.000000  "
      ]
     },
     "execution_count": 22,
     "metadata": {},
     "output_type": "execute_result"
    }
   ],
   "source": [
    "final.corr()"
   ]
  },
  {
   "cell_type": "markdown",
   "id": "55c01e5e",
   "metadata": {
    "papermill": {
     "duration": 0.013577,
     "end_time": "2025-03-24T12:54:56.519003",
     "exception": false,
     "start_time": "2025-03-24T12:54:56.505426",
     "status": "completed"
    },
    "tags": []
   },
   "source": [
    "# Task 5: Visualization of the results"
   ]
  },
  {
   "cell_type": "code",
   "execution_count": 23,
   "id": "74d85cbc",
   "metadata": {
    "execution": {
     "iopub.execute_input": "2025-03-24T12:54:56.549424Z",
     "iopub.status.busy": "2025-03-24T12:54:56.549015Z",
     "iopub.status.idle": "2025-03-24T12:54:56.562322Z",
     "shell.execute_reply": "2025-03-24T12:54:56.561021Z"
    },
    "papermill": {
     "duration": 0.030825,
     "end_time": "2025-03-24T12:54:56.564604",
     "exception": false,
     "start_time": "2025-03-24T12:54:56.533779",
     "status": "completed"
    },
    "tags": []
   },
   "outputs": [
    {
     "data": {
      "text/html": [
       "<div>\n",
       "<style scoped>\n",
       "    .dataframe tbody tr th:only-of-type {\n",
       "        vertical-align: middle;\n",
       "    }\n",
       "\n",
       "    .dataframe tbody tr th {\n",
       "        vertical-align: top;\n",
       "    }\n",
       "\n",
       "    .dataframe thead th {\n",
       "        text-align: right;\n",
       "    }\n",
       "</style>\n",
       "<table border=\"1\" class=\"dataframe\">\n",
       "  <thead>\n",
       "    <tr style=\"text-align: right;\">\n",
       "      <th></th>\n",
       "      <th>max_infection_rate</th>\n",
       "      <th>GDP per capita</th>\n",
       "      <th>Social support</th>\n",
       "      <th>Healthy life expectancy</th>\n",
       "      <th>Freedom to make life choices</th>\n",
       "    </tr>\n",
       "  </thead>\n",
       "  <tbody>\n",
       "    <tr>\n",
       "      <th>Afghanistan</th>\n",
       "      <td>232.0000</td>\n",
       "      <td>0.350</td>\n",
       "      <td>0.517</td>\n",
       "      <td>0.361</td>\n",
       "      <td>0.000</td>\n",
       "    </tr>\n",
       "    <tr>\n",
       "      <th>Albania</th>\n",
       "      <td>41.1533</td>\n",
       "      <td>0.947</td>\n",
       "      <td>0.848</td>\n",
       "      <td>0.874</td>\n",
       "      <td>0.383</td>\n",
       "    </tr>\n",
       "    <tr>\n",
       "      <th>Algeria</th>\n",
       "      <td>199.0000</td>\n",
       "      <td>1.002</td>\n",
       "      <td>1.160</td>\n",
       "      <td>0.785</td>\n",
       "      <td>0.086</td>\n",
       "    </tr>\n",
       "    <tr>\n",
       "      <th>Argentina</th>\n",
       "      <td>291.0000</td>\n",
       "      <td>1.092</td>\n",
       "      <td>1.432</td>\n",
       "      <td>0.881</td>\n",
       "      <td>0.471</td>\n",
       "    </tr>\n",
       "    <tr>\n",
       "      <th>Armenia</th>\n",
       "      <td>134.0000</td>\n",
       "      <td>0.850</td>\n",
       "      <td>1.055</td>\n",
       "      <td>0.815</td>\n",
       "      <td>0.283</td>\n",
       "    </tr>\n",
       "  </tbody>\n",
       "</table>\n",
       "</div>"
      ],
      "text/plain": [
       "             max_infection_rate  GDP per capita  Social support  \\\n",
       "Afghanistan            232.0000           0.350           0.517   \n",
       "Albania                 41.1533           0.947           0.848   \n",
       "Algeria                199.0000           1.002           1.160   \n",
       "Argentina              291.0000           1.092           1.432   \n",
       "Armenia                134.0000           0.850           1.055   \n",
       "\n",
       "             Healthy life expectancy  Freedom to make life choices  \n",
       "Afghanistan                    0.361                         0.000  \n",
       "Albania                        0.874                         0.383  \n",
       "Algeria                        0.785                         0.086  \n",
       "Argentina                      0.881                         0.471  \n",
       "Armenia                        0.815                         0.283  "
      ]
     },
     "execution_count": 23,
     "metadata": {},
     "output_type": "execute_result"
    }
   ],
   "source": [
    "final.head()"
   ]
  },
  {
   "cell_type": "markdown",
   "id": "4f15eb59",
   "metadata": {
    "papermill": {
     "duration": 0.015097,
     "end_time": "2025-03-24T12:54:56.597912",
     "exception": false,
     "start_time": "2025-03-24T12:54:56.582815",
     "status": "completed"
    },
    "tags": []
   },
   "source": [
    "# Task 5.1: Plotting GDP vs maximum Infection rate"
   ]
  },
  {
   "cell_type": "code",
   "execution_count": 24,
   "id": "0d21d5a2",
   "metadata": {
    "execution": {
     "iopub.execute_input": "2025-03-24T12:54:56.629607Z",
     "iopub.status.busy": "2025-03-24T12:54:56.629147Z",
     "iopub.status.idle": "2025-03-24T12:54:56.633984Z",
     "shell.execute_reply": "2025-03-24T12:54:56.632717Z"
    },
    "papermill": {
     "duration": 0.022966,
     "end_time": "2025-03-24T12:54:56.635803",
     "exception": false,
     "start_time": "2025-03-24T12:54:56.612837",
     "status": "completed"
    },
    "tags": []
   },
   "outputs": [],
   "source": [
    "x=final[\"GDP per capita\"]\n",
    "y=final[\"max_infection_rate\"]\n"
   ]
  },
  {
   "cell_type": "code",
   "execution_count": 25,
   "id": "08e5f5a5",
   "metadata": {
    "execution": {
     "iopub.execute_input": "2025-03-24T12:54:56.665502Z",
     "iopub.status.busy": "2025-03-24T12:54:56.665055Z",
     "iopub.status.idle": "2025-03-24T12:54:57.071756Z",
     "shell.execute_reply": "2025-03-24T12:54:57.070527Z"
    },
    "papermill": {
     "duration": 0.423868,
     "end_time": "2025-03-24T12:54:57.073833",
     "exception": false,
     "start_time": "2025-03-24T12:54:56.649965",
     "status": "completed"
    },
    "tags": []
   },
   "outputs": [
    {
     "data": {
      "text/plain": [
       "<Axes: xlabel='GDP per capita', ylabel='max_infection_rate'>"
      ]
     },
     "execution_count": 25,
     "metadata": {},
     "output_type": "execute_result"
    },
    {
     "data": {
      "image/png": "[encoded data removed]",
      "text/plain": [
       "<Figure size 640x480 with 1 Axes>"
      ]
     },
     "metadata": {},
     "output_type": "display_data"
    }
   ],
   "source": [
    "sns.scatterplot(x=x, y=np.log(y))\n",
    "sns.regplot(x=x, y=np.log(y))"
   ]
  },
  {
   "cell_type": "markdown",
   "id": "60bdc35a",
   "metadata": {
    "papermill": {
     "duration": 0.015272,
     "end_time": "2025-03-24T12:54:57.105520",
     "exception": false,
     "start_time": "2025-03-24T12:54:57.090248",
     "status": "completed"
    },
    "tags": []
   },
   "source": [
    "# Task 5.2: Plotting Social support vs maximum Infection rate"
   ]
  },
  {
   "cell_type": "code",
   "execution_count": 26,
   "id": "ae5859db",
   "metadata": {
    "execution": {
     "iopub.execute_input": "2025-03-24T12:54:57.137658Z",
     "iopub.status.busy": "2025-03-24T12:54:57.137315Z",
     "iopub.status.idle": "2025-03-24T12:54:57.374924Z",
     "shell.execute_reply": "2025-03-24T12:54:57.373780Z"
    },
    "papermill": {
     "duration": 0.255773,
     "end_time": "2025-03-24T12:54:57.376752",
     "exception": false,
     "start_time": "2025-03-24T12:54:57.120979",
     "status": "completed"
    },
    "tags": []
   },
   "outputs": [
    {
     "data": {
      "text/plain": [
       "<Axes: xlabel='Social support', ylabel='max_infection_rate'>"
      ]
     },
     "execution_count": 26,
     "metadata": {},
     "output_type": "execute_result"
    },
    {
     "data": {
      "image/png": "[encoded data removed]",
      "text/plain": [
       "<Figure size 640x480 with 1 Axes>"
      ]
     },
     "metadata": {},
     "output_type": "display_data"
    }
   ],
   "source": [
    "\n",
    "x1 = final[\"Social support\"]\n",
    "sns.scatterplot(x=x1, y=np.log(y))"
   ]
  },
  {
   "cell_type": "code",
   "execution_count": 27,
   "id": "0bfafa50",
   "metadata": {
    "execution": {
     "iopub.execute_input": "2025-03-24T12:54:57.410632Z",
     "iopub.status.busy": "2025-03-24T12:54:57.410174Z",
     "iopub.status.idle": "2025-03-24T12:54:57.827718Z",
     "shell.execute_reply": "2025-03-24T12:54:57.826463Z"
    },
    "papermill": {
     "duration": 0.436778,
     "end_time": "2025-03-24T12:54:57.829704",
     "exception": false,
     "start_time": "2025-03-24T12:54:57.392926",
     "status": "completed"
    },
    "tags": []
   },
   "outputs": [
    {
     "data": {
      "text/plain": [
       "<Axes: xlabel='Social support', ylabel='max_infection_rate'>"
      ]
     },
     "execution_count": 27,
     "metadata": {},
     "output_type": "execute_result"
    },
    {
     "data": {
      "image/png": "[encoded data removed]",
      "text/plain": [
       "<Figure size 640x480 with 1 Axes>"
      ]
     },
     "metadata": {},
     "output_type": "display_data"
    }
   ],
   "source": [
    "sns.regplot(x=x1, y=np.log(y))"
   ]
  },
  {
   "cell_type": "markdown",
   "id": "386d416d",
   "metadata": {
    "papermill": {
     "duration": 0.0169,
     "end_time": "2025-03-24T12:54:57.863579",
     "exception": false,
     "start_time": "2025-03-24T12:54:57.846679",
     "status": "completed"
    },
    "tags": []
   },
   "source": [
    "# Task 5.3: Plotting Healthy life expectancy vs maximum Infection rate"
   ]
  },
  {
   "cell_type": "code",
   "execution_count": 28,
   "id": "5afde8d0",
   "metadata": {
    "execution": {
     "iopub.execute_input": "2025-03-24T12:54:57.899050Z",
     "iopub.status.busy": "2025-03-24T12:54:57.898694Z",
     "iopub.status.idle": "2025-03-24T12:54:58.121806Z",
     "shell.execute_reply": "2025-03-24T12:54:58.120676Z"
    },
    "papermill": {
     "duration": 0.242863,
     "end_time": "2025-03-24T12:54:58.123385",
     "exception": false,
     "start_time": "2025-03-24T12:54:57.880522",
     "status": "completed"
    },
    "tags": []
   },
   "outputs": [
    {
     "data": {
      "text/plain": [
       "<Axes: xlabel='Healthy life expectancy', ylabel='max_infection_rate'>"
      ]
     },
     "execution_count": 28,
     "metadata": {},
     "output_type": "execute_result"
    },
    {
     "data": {
      "image/png": "[encoded data removed]",
      "text/plain": [
       "<Figure size 640x480 with 1 Axes>"
      ]
     },
     "metadata": {},
     "output_type": "display_data"
    }
   ],
   "source": [
    "x2=final[\"Healthy life expectancy\"]\n",
    "sns.scatterplot(x=x2,y=np.log(y))"
   ]
  },
  {
   "cell_type": "code",
   "execution_count": 29,
   "id": "f2b749a3",
   "metadata": {
    "execution": {
     "iopub.execute_input": "2025-03-24T12:54:58.160777Z",
     "iopub.status.busy": "2025-03-24T12:54:58.160364Z",
     "iopub.status.idle": "2025-03-24T12:54:58.481095Z",
     "shell.execute_reply": "2025-03-24T12:54:58.479805Z"
    },
    "papermill": {
     "duration": 0.342065,
     "end_time": "2025-03-24T12:54:58.483058",
     "exception": false,
     "start_time": "2025-03-24T12:54:58.140993",
     "status": "completed"
    },
    "tags": []
   },
   "outputs": [
    {
     "data": {
      "text/plain": [
       "<Axes: xlabel='Healthy life expectancy', ylabel='max_infection_rate'>"
      ]
     },
     "execution_count": 29,
     "metadata": {},
     "output_type": "execute_result"
    },
    {
     "data": {
      "image/png": "[encoded data removed]",
      "text/plain": [
       "<Figure size 640x480 with 1 Axes>"
      ]
     },
     "metadata": {},
     "output_type": "display_data"
    }
   ],
   "source": [
    "sns.regplot(x=x2,y=np.log(y))"
   ]
  },
  {
   "cell_type": "markdown",
   "id": "bed005ea",
   "metadata": {
    "papermill": {
     "duration": 0.018436,
     "end_time": "2025-03-24T12:54:58.520304",
     "exception": false,
     "start_time": "2025-03-24T12:54:58.501868",
     "status": "completed"
    },
    "tags": []
   },
   "source": [
    "# Task 5.4: Plotting Freedom to make life choices vs maximum Infection rate"
   ]
  },
  {
   "cell_type": "code",
   "execution_count": 30,
   "id": "81fd65f6",
   "metadata": {
    "execution": {
     "iopub.execute_input": "2025-03-24T12:54:58.559744Z",
     "iopub.status.busy": "2025-03-24T12:54:58.559331Z",
     "iopub.status.idle": "2025-03-24T12:54:58.795650Z",
     "shell.execute_reply": "2025-03-24T12:54:58.794151Z"
    },
    "papermill": {
     "duration": 0.258191,
     "end_time": "2025-03-24T12:54:58.797665",
     "exception": false,
     "start_time": "2025-03-24T12:54:58.539474",
     "status": "completed"
    },
    "tags": []
   },
   "outputs": [
    {
     "data": {
      "text/plain": [
       "<Axes: xlabel='Freedom to make life choices', ylabel='max_infection_rate'>"
      ]
     },
     "execution_count": 30,
     "metadata": {},
     "output_type": "execute_result"
    },
    {
     "data": {
      "image/png": "[encoded data removed]",
      "text/plain": [
       "<Figure size 640x480 with 1 Axes>"
      ]
     },
     "metadata": {},
     "output_type": "display_data"
    }
   ],
   "source": [
    "x3=final[\"Freedom to make life choices\"]\n",
    "sns.scatterplot(x=x3,y=np.log(y))"
   ]
  },
  {
   "cell_type": "code",
   "execution_count": 31,
   "id": "48ea4a01",
   "metadata": {
    "execution": {
     "iopub.execute_input": "2025-03-24T12:54:58.837897Z",
     "iopub.status.busy": "2025-03-24T12:54:58.837542Z",
     "iopub.status.idle": "2025-03-24T12:54:59.165139Z",
     "shell.execute_reply": "2025-03-24T12:54:59.163745Z"
    },
    "papermill": {
     "duration": 0.350426,
     "end_time": "2025-03-24T12:54:59.167418",
     "exception": false,
     "start_time": "2025-03-24T12:54:58.816992",
     "status": "completed"
    },
    "tags": []
   },
   "outputs": [
    {
     "data": {
      "text/plain": [
       "<Axes: xlabel='Freedom to make life choices', ylabel='max_infection_rate'>"
      ]
     },
     "execution_count": 31,
     "metadata": {},
     "output_type": "execute_result"
    },
    {
     "data": {
      "image/png": "[encoded data removed]",
      "text/plain": [
       "<Figure size 640x480 with 1 Axes>"
      ]
     },
     "metadata": {},
     "output_type": "display_data"
    }
   ],
   "source": [
    "sns.regplot(x=x3,y=np.log(y))"
   ]
  }
 ],
 "metadata": {
  "kaggle": {
   "accelerator": "none",
   "dataSources": [
    {
     "datasetId": 4688794,
     "sourceId": 7968861,
     "sourceType": "datasetVersion"
    }
   ],
   "dockerImageVersionId": 30918,
   "isGpuEnabled": false,
   "isInternetEnabled": false,
   "language": "python",
   "sourceType": "notebook"
  },
  "kernelspec": {
   "display_name": "Python 3",
   "language": "python",
   "name": "python3"
  },
  "language_info": {
   "codemirror_mode": {
    "name": "ipython",
    "version": 3
   },
   "file_extension": ".py",
   "mimetype": "text/x-python",
   "name": "python",
   "nbconvert_exporter": "python",
   "pygments_lexer": "ipython3",
   "version": "3.10.12"
  },
  "papermill": {
   "default_parameters": {},
   "duration": 12.452215,
   "end_time": "2025-03-24T12:55:00.010878",
   "environment_variables": {},
   "exception": null,
   "input_path": "__notebook__.ipynb",
   "output_path": "__notebook__.ipynb",
   "parameters": {},
   "start_time": "2025-03-24T12:54:47.558663",
   "version": "2.6.0"
  }
 },
 "nbformat": 4,
 "nbformat_minor": 5
}
